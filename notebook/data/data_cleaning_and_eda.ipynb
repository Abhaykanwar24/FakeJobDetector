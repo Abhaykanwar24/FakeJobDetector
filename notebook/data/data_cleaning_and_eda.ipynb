{
 "cells": [
  {
   "cell_type": "markdown",
   "id": "41eb4228",
   "metadata": {
    "vscode": {
     "languageId": "plaintext"
    }
   },
   "source": [
    "## Cleaning FAKE JOB POSTING DATASET"
   ]
  },
  {
   "cell_type": "markdown",
   "id": "cb50ee78",
   "metadata": {
    "vscode": {
     "languageId": "plaintext"
    }
   },
   "source": [
    "## 1) Problem Statement\n",
    "With the rise of online job portals, job seekers are increasingly exposed to fraudulent job postings that aim to scam applicants. These fake listings often mimic legitimate companies and job descriptions, making it difficult for users to distinguish between real and fraudulent opportunities."
   ]
  },
  {
   "cell_type": "markdown",
   "id": "2d84c5be",
   "metadata": {},
   "source": [
    "## 2) Data Collection\n",
    "\n",
    "- Dataset Source - https://www.kaggle.com/datasets/shivamb/real-or-fake-fake-jobposting-prediction\n",
    "- The dataset consist of 18 column and 17880 rows"
   ]
  },
  {
   "cell_type": "code",
   "execution_count": 1,
   "id": "9aba00dc",
   "metadata": {},
   "outputs": [],
   "source": [
    "import pandas as pd\n",
    "import numpy as np \n",
    "import matplotlib.pyplot as plt\n",
    "import seaborn as sns\n",
    "%matplotlib inline"
   ]
  },
  {
   "cell_type": "code",
   "execution_count": 2,
   "id": "2e950acd",
   "metadata": {},
   "outputs": [],
   "source": [
    "## importing csv file \n",
    "df = pd.read_csv('fake_job_postings.csv')"
   ]
  },
  {
   "cell_type": "code",
   "execution_count": 3,
   "id": "2cc1500e",
   "metadata": {},
   "outputs": [
    {
     "data": {
      "text/html": [
       "<div>\n",
       "<style scoped>\n",
       "    .dataframe tbody tr th:only-of-type {\n",
       "        vertical-align: middle;\n",
       "    }\n",
       "\n",
       "    .dataframe tbody tr th {\n",
       "        vertical-align: top;\n",
       "    }\n",
       "\n",
       "    .dataframe thead th {\n",
       "        text-align: right;\n",
       "    }\n",
       "</style>\n",
       "<table border=\"1\" class=\"dataframe\">\n",
       "  <thead>\n",
       "    <tr style=\"text-align: right;\">\n",
       "      <th></th>\n",
       "      <th>job_id</th>\n",
       "      <th>title</th>\n",
       "      <th>location</th>\n",
       "      <th>department</th>\n",
       "      <th>salary_range</th>\n",
       "      <th>company_profile</th>\n",
       "      <th>description</th>\n",
       "      <th>requirements</th>\n",
       "      <th>benefits</th>\n",
       "      <th>telecommuting</th>\n",
       "      <th>has_company_logo</th>\n",
       "      <th>has_questions</th>\n",
       "      <th>employment_type</th>\n",
       "      <th>required_experience</th>\n",
       "      <th>required_education</th>\n",
       "      <th>industry</th>\n",
       "      <th>function</th>\n",
       "      <th>fraudulent</th>\n",
       "    </tr>\n",
       "  </thead>\n",
       "  <tbody>\n",
       "    <tr>\n",
       "      <th>0</th>\n",
       "      <td>1</td>\n",
       "      <td>Marketing Intern</td>\n",
       "      <td>US, NY, New York</td>\n",
       "      <td>Marketing</td>\n",
       "      <td>NaN</td>\n",
       "      <td>We're Food52, and we've created a groundbreaki...</td>\n",
       "      <td>Food52, a fast-growing, James Beard Award-winn...</td>\n",
       "      <td>Experience with content management systems a m...</td>\n",
       "      <td>NaN</td>\n",
       "      <td>0</td>\n",
       "      <td>1</td>\n",
       "      <td>0</td>\n",
       "      <td>Other</td>\n",
       "      <td>Internship</td>\n",
       "      <td>NaN</td>\n",
       "      <td>NaN</td>\n",
       "      <td>Marketing</td>\n",
       "      <td>0</td>\n",
       "    </tr>\n",
       "    <tr>\n",
       "      <th>1</th>\n",
       "      <td>2</td>\n",
       "      <td>Customer Service - Cloud Video Production</td>\n",
       "      <td>NZ, , Auckland</td>\n",
       "      <td>Success</td>\n",
       "      <td>NaN</td>\n",
       "      <td>90 Seconds, the worlds Cloud Video Production ...</td>\n",
       "      <td>Organised - Focused - Vibrant - Awesome!Do you...</td>\n",
       "      <td>What we expect from you:Your key responsibilit...</td>\n",
       "      <td>What you will get from usThrough being part of...</td>\n",
       "      <td>0</td>\n",
       "      <td>1</td>\n",
       "      <td>0</td>\n",
       "      <td>Full-time</td>\n",
       "      <td>Not Applicable</td>\n",
       "      <td>NaN</td>\n",
       "      <td>Marketing and Advertising</td>\n",
       "      <td>Customer Service</td>\n",
       "      <td>0</td>\n",
       "    </tr>\n",
       "    <tr>\n",
       "      <th>2</th>\n",
       "      <td>3</td>\n",
       "      <td>Commissioning Machinery Assistant (CMA)</td>\n",
       "      <td>US, IA, Wever</td>\n",
       "      <td>NaN</td>\n",
       "      <td>NaN</td>\n",
       "      <td>Valor Services provides Workforce Solutions th...</td>\n",
       "      <td>Our client, located in Houston, is actively se...</td>\n",
       "      <td>Implement pre-commissioning and commissioning ...</td>\n",
       "      <td>NaN</td>\n",
       "      <td>0</td>\n",
       "      <td>1</td>\n",
       "      <td>0</td>\n",
       "      <td>NaN</td>\n",
       "      <td>NaN</td>\n",
       "      <td>NaN</td>\n",
       "      <td>NaN</td>\n",
       "      <td>NaN</td>\n",
       "      <td>0</td>\n",
       "    </tr>\n",
       "    <tr>\n",
       "      <th>3</th>\n",
       "      <td>4</td>\n",
       "      <td>Account Executive - Washington DC</td>\n",
       "      <td>US, DC, Washington</td>\n",
       "      <td>Sales</td>\n",
       "      <td>NaN</td>\n",
       "      <td>Our passion for improving quality of life thro...</td>\n",
       "      <td>THE COMPANY: ESRI – Environmental Systems Rese...</td>\n",
       "      <td>EDUCATION: Bachelor’s or Master’s in GIS, busi...</td>\n",
       "      <td>Our culture is anything but corporate—we have ...</td>\n",
       "      <td>0</td>\n",
       "      <td>1</td>\n",
       "      <td>0</td>\n",
       "      <td>Full-time</td>\n",
       "      <td>Mid-Senior level</td>\n",
       "      <td>Bachelor's Degree</td>\n",
       "      <td>Computer Software</td>\n",
       "      <td>Sales</td>\n",
       "      <td>0</td>\n",
       "    </tr>\n",
       "    <tr>\n",
       "      <th>4</th>\n",
       "      <td>5</td>\n",
       "      <td>Bill Review Manager</td>\n",
       "      <td>US, FL, Fort Worth</td>\n",
       "      <td>NaN</td>\n",
       "      <td>NaN</td>\n",
       "      <td>SpotSource Solutions LLC is a Global Human Cap...</td>\n",
       "      <td>JOB TITLE: Itemization Review ManagerLOCATION:...</td>\n",
       "      <td>QUALIFICATIONS:RN license in the State of Texa...</td>\n",
       "      <td>Full Benefits Offered</td>\n",
       "      <td>0</td>\n",
       "      <td>1</td>\n",
       "      <td>1</td>\n",
       "      <td>Full-time</td>\n",
       "      <td>Mid-Senior level</td>\n",
       "      <td>Bachelor's Degree</td>\n",
       "      <td>Hospital &amp; Health Care</td>\n",
       "      <td>Health Care Provider</td>\n",
       "      <td>0</td>\n",
       "    </tr>\n",
       "  </tbody>\n",
       "</table>\n",
       "</div>"
      ],
      "text/plain": [
       "   job_id                                      title            location  \\\n",
       "0       1                           Marketing Intern    US, NY, New York   \n",
       "1       2  Customer Service - Cloud Video Production      NZ, , Auckland   \n",
       "2       3    Commissioning Machinery Assistant (CMA)       US, IA, Wever   \n",
       "3       4          Account Executive - Washington DC  US, DC, Washington   \n",
       "4       5                        Bill Review Manager  US, FL, Fort Worth   \n",
       "\n",
       "  department salary_range                                    company_profile  \\\n",
       "0  Marketing          NaN  We're Food52, and we've created a groundbreaki...   \n",
       "1    Success          NaN  90 Seconds, the worlds Cloud Video Production ...   \n",
       "2        NaN          NaN  Valor Services provides Workforce Solutions th...   \n",
       "3      Sales          NaN  Our passion for improving quality of life thro...   \n",
       "4        NaN          NaN  SpotSource Solutions LLC is a Global Human Cap...   \n",
       "\n",
       "                                         description  \\\n",
       "0  Food52, a fast-growing, James Beard Award-winn...   \n",
       "1  Organised - Focused - Vibrant - Awesome!Do you...   \n",
       "2  Our client, located in Houston, is actively se...   \n",
       "3  THE COMPANY: ESRI – Environmental Systems Rese...   \n",
       "4  JOB TITLE: Itemization Review ManagerLOCATION:...   \n",
       "\n",
       "                                        requirements  \\\n",
       "0  Experience with content management systems a m...   \n",
       "1  What we expect from you:Your key responsibilit...   \n",
       "2  Implement pre-commissioning and commissioning ...   \n",
       "3  EDUCATION: Bachelor’s or Master’s in GIS, busi...   \n",
       "4  QUALIFICATIONS:RN license in the State of Texa...   \n",
       "\n",
       "                                            benefits  telecommuting  \\\n",
       "0                                                NaN              0   \n",
       "1  What you will get from usThrough being part of...              0   \n",
       "2                                                NaN              0   \n",
       "3  Our culture is anything but corporate—we have ...              0   \n",
       "4                              Full Benefits Offered              0   \n",
       "\n",
       "   has_company_logo  has_questions employment_type required_experience  \\\n",
       "0                 1              0           Other          Internship   \n",
       "1                 1              0       Full-time      Not Applicable   \n",
       "2                 1              0             NaN                 NaN   \n",
       "3                 1              0       Full-time    Mid-Senior level   \n",
       "4                 1              1       Full-time    Mid-Senior level   \n",
       "\n",
       "  required_education                   industry              function  \\\n",
       "0                NaN                        NaN             Marketing   \n",
       "1                NaN  Marketing and Advertising      Customer Service   \n",
       "2                NaN                        NaN                   NaN   \n",
       "3  Bachelor's Degree          Computer Software                 Sales   \n",
       "4  Bachelor's Degree     Hospital & Health Care  Health Care Provider   \n",
       "\n",
       "   fraudulent  \n",
       "0           0  \n",
       "1           0  \n",
       "2           0  \n",
       "3           0  \n",
       "4           0  "
      ]
     },
     "execution_count": 3,
     "metadata": {},
     "output_type": "execute_result"
    }
   ],
   "source": [
    "df.head()"
   ]
  },
  {
   "cell_type": "code",
   "execution_count": 4,
   "id": "d8415cf6",
   "metadata": {},
   "outputs": [
    {
     "data": {
      "text/plain": [
       "(17880, 18)"
      ]
     },
     "execution_count": 4,
     "metadata": {},
     "output_type": "execute_result"
    }
   ],
   "source": [
    "df.shape"
   ]
  },
  {
   "cell_type": "markdown",
   "id": "e5116223",
   "metadata": {},
   "source": [
    "## Information about the dataset"
   ]
  },
  {
   "cell_type": "markdown",
   "id": "3893ae8a",
   "metadata": {},
   "source": [
    "- title -> Just gives the job title how which it is posted. (e.g., \"Software Engineer\", \"Marketing Intern\").\n",
    "- location -> location of job posting\n",
    "- department -> for which department job is posted\n",
    "- Salary_range -> tell about salary range that will be given to applicant\n",
    "- Company_profile -> tells about profile of the company (information)\n",
    "- description -> description of the job posting\n",
    "- requirements -> experience needed for job posting\n",
    "- benefits -> benefits of getting that job \n",
    "- telecomputing -> Indicates if the job allows remote work or working from home (1 = yes, 0 = no).\n",
    "- has_company_logo -> companies logo is there or not (1 = yes, 0 = no).\n",
    "- has_questions -> Indicates whether the job posting contains additional application questions (1 = yes, 0 = no).\n",
    "- employement_type -> what type of employement they are giving (e.g., Full-time, Part-time, Contract, Temporary, Internship).\n",
    "- required_experience -> what is the experience needed for the job (e.g., Entry-level, Mid-level, Senior).\n",
    "- required_education -> education is required for job or not (e.g., Bachelor’s Degree, Master’s Degree, High School).\n",
    "- Industry -> from which industry the company and job belongs (e.g., IT, Healthcare, Finance).\n",
    "- Function -> what is your function in the company (e.g., Engineering, Human Resources, Marketing).\n",
    "- fraudulent -> fraud or not (1 = fake, 0 = real)."
   ]
  },
  {
   "cell_type": "code",
   "execution_count": 5,
   "id": "5af172b5",
   "metadata": {},
   "outputs": [
    {
     "name": "stdout",
     "output_type": "stream",
     "text": [
      "<class 'pandas.core.frame.DataFrame'>\n",
      "RangeIndex: 17880 entries, 0 to 17879\n",
      "Data columns (total 18 columns):\n",
      " #   Column               Non-Null Count  Dtype \n",
      "---  ------               --------------  ----- \n",
      " 0   job_id               17880 non-null  int64 \n",
      " 1   title                17880 non-null  object\n",
      " 2   location             17534 non-null  object\n",
      " 3   department           6333 non-null   object\n",
      " 4   salary_range         2868 non-null   object\n",
      " 5   company_profile      14572 non-null  object\n",
      " 6   description          17879 non-null  object\n",
      " 7   requirements         15184 non-null  object\n",
      " 8   benefits             10668 non-null  object\n",
      " 9   telecommuting        17880 non-null  int64 \n",
      " 10  has_company_logo     17880 non-null  int64 \n",
      " 11  has_questions        17880 non-null  int64 \n",
      " 12  employment_type      14409 non-null  object\n",
      " 13  required_experience  10830 non-null  object\n",
      " 14  required_education   9775 non-null   object\n",
      " 15  industry             12977 non-null  object\n",
      " 16  function             11425 non-null  object\n",
      " 17  fraudulent           17880 non-null  int64 \n",
      "dtypes: int64(5), object(13)\n",
      "memory usage: 2.5+ MB\n"
     ]
    }
   ],
   "source": [
    "df.info()"
   ]
  },
  {
   "cell_type": "code",
   "execution_count": 6,
   "id": "7195df46",
   "metadata": {},
   "outputs": [
    {
     "data": {
      "text/plain": [
       "job_id                     0\n",
       "title                      0\n",
       "location                 346\n",
       "department             11547\n",
       "salary_range           15012\n",
       "company_profile         3308\n",
       "description                1\n",
       "requirements            2696\n",
       "benefits                7212\n",
       "telecommuting              0\n",
       "has_company_logo           0\n",
       "has_questions              0\n",
       "employment_type         3471\n",
       "required_experience     7050\n",
       "required_education      8105\n",
       "industry                4903\n",
       "function                6455\n",
       "fraudulent                 0\n",
       "dtype: int64"
      ]
     },
     "execution_count": 6,
     "metadata": {},
     "output_type": "execute_result"
    }
   ],
   "source": [
    "df.isnull().sum()"
   ]
  },
  {
   "cell_type": "code",
   "execution_count": 7,
   "id": "58080d5d",
   "metadata": {},
   "outputs": [
    {
     "data": {
      "text/plain": [
       "employment_type\n",
       "Full-time    11620\n",
       "Contract      1524\n",
       "Part-time      797\n",
       "Temporary      241\n",
       "Other          227\n",
       "Name: count, dtype: int64"
      ]
     },
     "execution_count": 7,
     "metadata": {},
     "output_type": "execute_result"
    }
   ],
   "source": [
    "df['employment_type'].value_counts()"
   ]
  },
  {
   "cell_type": "code",
   "execution_count": 8,
   "id": "03fed1ee",
   "metadata": {},
   "outputs": [
    {
     "data": {
      "text/plain": [
       "required_experience\n",
       "Mid-Senior level    3809\n",
       "Entry level         2697\n",
       "Associate           2297\n",
       "Not Applicable      1116\n",
       "Director             389\n",
       "Internship           381\n",
       "Executive            141\n",
       "Name: count, dtype: int64"
      ]
     },
     "execution_count": 8,
     "metadata": {},
     "output_type": "execute_result"
    }
   ],
   "source": [
    "df['required_experience'].value_counts()"
   ]
  },
  {
   "cell_type": "code",
   "execution_count": 9,
   "id": "4f84a382",
   "metadata": {},
   "outputs": [
    {
     "data": {
      "text/plain": [
       "required_education\n",
       "Bachelor's Degree                    5145\n",
       "High School or equivalent            2080\n",
       "Unspecified                          1397\n",
       "Master's Degree                       416\n",
       "Associate Degree                      274\n",
       "Certification                         170\n",
       "Some College Coursework Completed     102\n",
       "Professional                           74\n",
       "Vocational                             49\n",
       "Some High School Coursework            27\n",
       "Doctorate                              26\n",
       "Vocational - HS Diploma                 9\n",
       "Vocational - Degree                     6\n",
       "Name: count, dtype: int64"
      ]
     },
     "execution_count": 9,
     "metadata": {},
     "output_type": "execute_result"
    }
   ],
   "source": [
    "df['required_education'].value_counts() "
   ]
  },
  {
   "cell_type": "code",
   "execution_count": 10,
   "id": "2a8bc1e4",
   "metadata": {},
   "outputs": [
    {
     "name": "stdout",
     "output_type": "stream",
     "text": [
      "location: 2817 unique values\n",
      "department: 1224 unique values\n",
      "employment_type: 5 unique values\n",
      "required_experience: 7 unique values\n",
      "required_education: 13 unique values\n",
      "industry: 131 unique values\n",
      "function: 37 unique values\n"
     ]
    }
   ],
   "source": [
    "cols = [\n",
    "    \"location\",\n",
    "    \"department\",\n",
    "    \"employment_type\",\n",
    "    \"required_experience\",\n",
    "    \"required_education\",\n",
    "    \"industry\",\n",
    "    \"function\"\n",
    "]\n",
    "\n",
    "for col in cols:\n",
    "    n_unique = df[col].dropna().str.lower().str.strip().nunique()\n",
    "    print(f\"{col}: {n_unique} unique values\")\n"
   ]
  },
  {
   "cell_type": "code",
   "execution_count": 11,
   "id": "61bd1751",
   "metadata": {},
   "outputs": [
    {
     "name": "stdout",
     "output_type": "stream",
     "text": [
      "15012\n"
     ]
    }
   ],
   "source": [
    "print(df['salary_range'].isnull().sum())"
   ]
  },
  {
   "cell_type": "markdown",
   "id": "dc4e1a61",
   "metadata": {},
   "source": [
    "## So i Think that salary_range and depatment are not need due to\n",
    "- department → (redundant with function)\n",
    "- salary_range -> (too sparse, noisy)"
   ]
  },
  {
   "cell_type": "code",
   "execution_count": 12,
   "id": "ba119365",
   "metadata": {},
   "outputs": [],
   "source": [
    "df.drop([\"department\", \"salary_range\"], axis=1, inplace=True)\n"
   ]
  },
  {
   "cell_type": "code",
   "execution_count": 13,
   "id": "da708c58",
   "metadata": {},
   "outputs": [
    {
     "name": "stdout",
     "output_type": "stream",
     "text": [
      "<class 'pandas.core.frame.DataFrame'>\n",
      "RangeIndex: 17880 entries, 0 to 17879\n",
      "Data columns (total 16 columns):\n",
      " #   Column               Non-Null Count  Dtype \n",
      "---  ------               --------------  ----- \n",
      " 0   job_id               17880 non-null  int64 \n",
      " 1   title                17880 non-null  object\n",
      " 2   location             17534 non-null  object\n",
      " 3   company_profile      14572 non-null  object\n",
      " 4   description          17879 non-null  object\n",
      " 5   requirements         15184 non-null  object\n",
      " 6   benefits             10668 non-null  object\n",
      " 7   telecommuting        17880 non-null  int64 \n",
      " 8   has_company_logo     17880 non-null  int64 \n",
      " 9   has_questions        17880 non-null  int64 \n",
      " 10  employment_type      14409 non-null  object\n",
      " 11  required_experience  10830 non-null  object\n",
      " 12  required_education   9775 non-null   object\n",
      " 13  industry             12977 non-null  object\n",
      " 14  function             11425 non-null  object\n",
      " 15  fraudulent           17880 non-null  int64 \n",
      "dtypes: int64(5), object(11)\n",
      "memory usage: 2.2+ MB\n"
     ]
    }
   ],
   "source": [
    "df.info()"
   ]
  },
  {
   "cell_type": "code",
   "execution_count": 14,
   "id": "a6dcd6d1",
   "metadata": {},
   "outputs": [
    {
     "data": {
      "text/plain": [
       "job_id                    0\n",
       "title                     0\n",
       "location                346\n",
       "company_profile        3308\n",
       "description               1\n",
       "requirements           2696\n",
       "benefits               7212\n",
       "telecommuting             0\n",
       "has_company_logo          0\n",
       "has_questions             0\n",
       "employment_type        3471\n",
       "required_experience    7050\n",
       "required_education     8105\n",
       "industry               4903\n",
       "function               6455\n",
       "fraudulent                0\n",
       "dtype: int64"
      ]
     },
     "execution_count": 14,
     "metadata": {},
     "output_type": "execute_result"
    }
   ],
   "source": [
    "df.isnull().sum()"
   ]
  },
  {
   "cell_type": "code",
   "execution_count": 15,
   "id": "af3db99c",
   "metadata": {},
   "outputs": [
    {
     "data": {
      "text/plain": [
       "job_id                 0\n",
       "title                  0\n",
       "location               0\n",
       "company_profile        0\n",
       "description            0\n",
       "requirements           0\n",
       "benefits               0\n",
       "telecommuting          0\n",
       "has_company_logo       0\n",
       "has_questions          0\n",
       "employment_type        0\n",
       "required_experience    0\n",
       "required_education     0\n",
       "industry               0\n",
       "function               0\n",
       "fraudulent             0\n",
       "dtype: int64"
      ]
     },
     "execution_count": 15,
     "metadata": {},
     "output_type": "execute_result"
    }
   ],
   "source": [
    "# Fill missing text columns with empty strings\n",
    "text_cols = ['company_profile', 'description', 'requirements', 'benefits']\n",
    "df[text_cols] = df[text_cols].fillna('')\n",
    "\n",
    "# Fill missing categorical columns with 'Unknown'\n",
    "cat_cols = ['employment_type', 'required_experience', 'required_education', 'industry', 'function', 'location']\n",
    "df[cat_cols] = df[cat_cols].fillna('Unknown')\n",
    "\n",
    "# Verify no more missing values (except possibly in parsed features later)\n",
    "df.isnull().sum()"
   ]
  },
  {
   "cell_type": "code",
   "execution_count": 16,
   "id": "e9ad2ae6",
   "metadata": {},
   "outputs": [
    {
     "data": {
      "text/html": [
       "<div>\n",
       "<style scoped>\n",
       "    .dataframe tbody tr th:only-of-type {\n",
       "        vertical-align: middle;\n",
       "    }\n",
       "\n",
       "    .dataframe tbody tr th {\n",
       "        vertical-align: top;\n",
       "    }\n",
       "\n",
       "    .dataframe thead th {\n",
       "        text-align: right;\n",
       "    }\n",
       "</style>\n",
       "<table border=\"1\" class=\"dataframe\">\n",
       "  <thead>\n",
       "    <tr style=\"text-align: right;\">\n",
       "      <th></th>\n",
       "      <th>country</th>\n",
       "      <th>state</th>\n",
       "      <th>city</th>\n",
       "    </tr>\n",
       "  </thead>\n",
       "  <tbody>\n",
       "    <tr>\n",
       "      <th>0</th>\n",
       "      <td>US</td>\n",
       "      <td>NY</td>\n",
       "      <td>New York</td>\n",
       "    </tr>\n",
       "    <tr>\n",
       "      <th>1</th>\n",
       "      <td>NZ</td>\n",
       "      <td></td>\n",
       "      <td>Auckland</td>\n",
       "    </tr>\n",
       "    <tr>\n",
       "      <th>2</th>\n",
       "      <td>US</td>\n",
       "      <td>IA</td>\n",
       "      <td>Wever</td>\n",
       "    </tr>\n",
       "    <tr>\n",
       "      <th>3</th>\n",
       "      <td>US</td>\n",
       "      <td>DC</td>\n",
       "      <td>Washington</td>\n",
       "    </tr>\n",
       "    <tr>\n",
       "      <th>4</th>\n",
       "      <td>US</td>\n",
       "      <td>FL</td>\n",
       "      <td>Fort Worth</td>\n",
       "    </tr>\n",
       "  </tbody>\n",
       "</table>\n",
       "</div>"
      ],
      "text/plain": [
       "  country state        city\n",
       "0      US    NY    New York\n",
       "1      NZ          Auckland\n",
       "2      US    IA       Wever\n",
       "3      US    DC  Washington\n",
       "4      US    FL  Fort Worth"
      ]
     },
     "execution_count": 16,
     "metadata": {},
     "output_type": "execute_result"
    }
   ],
   "source": [
    "# Function to parse location\n",
    "def parse_location(loc):\n",
    "    if loc == 'Unknown' or pd.isna(loc):\n",
    "        return pd.Series(['Unknown', 'Unknown', 'Unknown'])\n",
    "    parts = [part.strip() for part in loc.split(',')]\n",
    "    country = parts[0] if len(parts) > 0 else 'Unknown'\n",
    "    state = parts[1] if len(parts) > 1 else 'Unknown'\n",
    "    city = parts[2] if len(parts) > 2 else 'Unknown'\n",
    "    return pd.Series([country, state, city])\n",
    "\n",
    "# Apply parsing and create new columns\n",
    "df[['country', 'state', 'city']] = df['location'].apply(parse_location)\n",
    "\n",
    "# Drop original location column\n",
    "df.drop('location', axis=1, inplace=True)\n",
    "\n",
    "df[['country', 'state', 'city']].head()"
   ]
  },
  {
   "cell_type": "code",
   "execution_count": 17,
   "id": "ff576294",
   "metadata": {},
   "outputs": [
    {
     "name": "stdout",
     "output_type": "stream",
     "text": [
      "employment_type: 6 unique values\n",
      "required_experience: 8 unique values\n",
      "required_education: 14 unique values\n",
      "industry: 132 unique values\n",
      "function: 38 unique values\n"
     ]
    }
   ],
   "source": [
    "# Standardize categorical columns\n",
    "for col in ['employment_type', 'required_experience', 'required_education', 'industry', 'function', 'country', 'state', 'city']:\n",
    "    df[col] = df[col].str.lower().str.strip()\n",
    "\n",
    "# Re-check unique counts after standardization\n",
    "for col in ['employment_type', 'required_experience', 'required_education', 'industry', 'function']:\n",
    "    print(f\"{col}: {df[col].nunique()} unique values\")"
   ]
  },
  {
   "cell_type": "code",
   "execution_count": 18,
   "id": "5eb1a4cc",
   "metadata": {},
   "outputs": [
    {
     "data": {
      "text/plain": [
       "country\n",
       "us    10656\n",
       "gb     2384\n",
       "gr      940\n",
       "ca      457\n",
       "de      383\n",
       "      ...  \n",
       "hr        1\n",
       "sv        1\n",
       "jm        1\n",
       "kz        1\n",
       "kh        1\n",
       "Name: count, Length: 91, dtype: int64"
      ]
     },
     "execution_count": 18,
     "metadata": {},
     "output_type": "execute_result"
    }
   ],
   "source": [
    "df['country'].value_counts()"
   ]
  },
  {
   "cell_type": "code",
   "execution_count": 19,
   "id": "2449129b",
   "metadata": {},
   "outputs": [
    {
     "data": {
      "text/plain": [
       "state\n",
       "       2140\n",
       "ca     2051\n",
       "ny     1259\n",
       "lnd     992\n",
       "tx      975\n",
       "       ... \n",
       "der       1\n",
       "iow       1\n",
       "dud       1\n",
       "sn        1\n",
       "nle       1\n",
       "Name: count, Length: 326, dtype: int64"
      ]
     },
     "execution_count": 19,
     "metadata": {},
     "output_type": "execute_result"
    }
   ],
   "source": [
    "df['state'].value_counts()"
   ]
  },
  {
   "cell_type": "code",
   "execution_count": 20,
   "id": "00fbdf5a",
   "metadata": {},
   "outputs": [
    {
     "data": {
      "text/plain": [
       "city\n",
       "                      1628\n",
       "london                1109\n",
       "new york               699\n",
       "athens                 560\n",
       "san francisco          494\n",
       "                      ... \n",
       "abbotsford               1\n",
       "sw chicago suburbs       1\n",
       "collegedale              1\n",
       "dearborn                 1\n",
       "melton mowbray           1\n",
       "Name: count, Length: 2027, dtype: int64"
      ]
     },
     "execution_count": 20,
     "metadata": {},
     "output_type": "execute_result"
    }
   ],
   "source": [
    "df['city'].value_counts()"
   ]
  },
  {
   "cell_type": "code",
   "execution_count": 21,
   "id": "6ff30191",
   "metadata": {},
   "outputs": [
    {
     "data": {
      "text/html": [
       "<div>\n",
       "<style scoped>\n",
       "    .dataframe tbody tr th:only-of-type {\n",
       "        vertical-align: middle;\n",
       "    }\n",
       "\n",
       "    .dataframe tbody tr th {\n",
       "        vertical-align: top;\n",
       "    }\n",
       "\n",
       "    .dataframe thead th {\n",
       "        text-align: right;\n",
       "    }\n",
       "</style>\n",
       "<table border=\"1\" class=\"dataframe\">\n",
       "  <thead>\n",
       "    <tr style=\"text-align: right;\">\n",
       "      <th></th>\n",
       "      <th>job_id</th>\n",
       "      <th>title</th>\n",
       "      <th>company_profile</th>\n",
       "      <th>description</th>\n",
       "      <th>requirements</th>\n",
       "      <th>benefits</th>\n",
       "      <th>telecommuting</th>\n",
       "      <th>has_company_logo</th>\n",
       "      <th>has_questions</th>\n",
       "      <th>employment_type</th>\n",
       "      <th>required_experience</th>\n",
       "      <th>required_education</th>\n",
       "      <th>industry</th>\n",
       "      <th>function</th>\n",
       "      <th>fraudulent</th>\n",
       "      <th>country</th>\n",
       "      <th>state</th>\n",
       "      <th>city</th>\n",
       "    </tr>\n",
       "  </thead>\n",
       "  <tbody>\n",
       "    <tr>\n",
       "      <th>0</th>\n",
       "      <td>1</td>\n",
       "      <td>Marketing Intern</td>\n",
       "      <td>We're Food52, and we've created a groundbreaki...</td>\n",
       "      <td>Food52, a fast-growing, James Beard Award-winn...</td>\n",
       "      <td>Experience with content management systems a m...</td>\n",
       "      <td></td>\n",
       "      <td>0</td>\n",
       "      <td>1</td>\n",
       "      <td>0</td>\n",
       "      <td>other</td>\n",
       "      <td>internship</td>\n",
       "      <td>unknown</td>\n",
       "      <td>unknown</td>\n",
       "      <td>marketing</td>\n",
       "      <td>0</td>\n",
       "      <td>us</td>\n",
       "      <td>ny</td>\n",
       "      <td>new york</td>\n",
       "    </tr>\n",
       "    <tr>\n",
       "      <th>1</th>\n",
       "      <td>2</td>\n",
       "      <td>Customer Service - Cloud Video Production</td>\n",
       "      <td>90 Seconds, the worlds Cloud Video Production ...</td>\n",
       "      <td>Organised - Focused - Vibrant - Awesome!Do you...</td>\n",
       "      <td>What we expect from you:Your key responsibilit...</td>\n",
       "      <td>What you will get from usThrough being part of...</td>\n",
       "      <td>0</td>\n",
       "      <td>1</td>\n",
       "      <td>0</td>\n",
       "      <td>full-time</td>\n",
       "      <td>not applicable</td>\n",
       "      <td>unknown</td>\n",
       "      <td>marketing and advertising</td>\n",
       "      <td>customer service</td>\n",
       "      <td>0</td>\n",
       "      <td>nz</td>\n",
       "      <td></td>\n",
       "      <td>auckland</td>\n",
       "    </tr>\n",
       "    <tr>\n",
       "      <th>2</th>\n",
       "      <td>3</td>\n",
       "      <td>Commissioning Machinery Assistant (CMA)</td>\n",
       "      <td>Valor Services provides Workforce Solutions th...</td>\n",
       "      <td>Our client, located in Houston, is actively se...</td>\n",
       "      <td>Implement pre-commissioning and commissioning ...</td>\n",
       "      <td></td>\n",
       "      <td>0</td>\n",
       "      <td>1</td>\n",
       "      <td>0</td>\n",
       "      <td>unknown</td>\n",
       "      <td>unknown</td>\n",
       "      <td>unknown</td>\n",
       "      <td>unknown</td>\n",
       "      <td>unknown</td>\n",
       "      <td>0</td>\n",
       "      <td>us</td>\n",
       "      <td>ia</td>\n",
       "      <td>wever</td>\n",
       "    </tr>\n",
       "    <tr>\n",
       "      <th>3</th>\n",
       "      <td>4</td>\n",
       "      <td>Account Executive - Washington DC</td>\n",
       "      <td>Our passion for improving quality of life thro...</td>\n",
       "      <td>THE COMPANY: ESRI – Environmental Systems Rese...</td>\n",
       "      <td>EDUCATION: Bachelor’s or Master’s in GIS, busi...</td>\n",
       "      <td>Our culture is anything but corporate—we have ...</td>\n",
       "      <td>0</td>\n",
       "      <td>1</td>\n",
       "      <td>0</td>\n",
       "      <td>full-time</td>\n",
       "      <td>mid-senior level</td>\n",
       "      <td>bachelor's degree</td>\n",
       "      <td>computer software</td>\n",
       "      <td>sales</td>\n",
       "      <td>0</td>\n",
       "      <td>us</td>\n",
       "      <td>dc</td>\n",
       "      <td>washington</td>\n",
       "    </tr>\n",
       "    <tr>\n",
       "      <th>4</th>\n",
       "      <td>5</td>\n",
       "      <td>Bill Review Manager</td>\n",
       "      <td>SpotSource Solutions LLC is a Global Human Cap...</td>\n",
       "      <td>JOB TITLE: Itemization Review ManagerLOCATION:...</td>\n",
       "      <td>QUALIFICATIONS:RN license in the State of Texa...</td>\n",
       "      <td>Full Benefits Offered</td>\n",
       "      <td>0</td>\n",
       "      <td>1</td>\n",
       "      <td>1</td>\n",
       "      <td>full-time</td>\n",
       "      <td>mid-senior level</td>\n",
       "      <td>bachelor's degree</td>\n",
       "      <td>hospital &amp; health care</td>\n",
       "      <td>health care provider</td>\n",
       "      <td>0</td>\n",
       "      <td>us</td>\n",
       "      <td>fl</td>\n",
       "      <td>fort worth</td>\n",
       "    </tr>\n",
       "  </tbody>\n",
       "</table>\n",
       "</div>"
      ],
      "text/plain": [
       "   job_id                                      title  \\\n",
       "0       1                           Marketing Intern   \n",
       "1       2  Customer Service - Cloud Video Production   \n",
       "2       3    Commissioning Machinery Assistant (CMA)   \n",
       "3       4          Account Executive - Washington DC   \n",
       "4       5                        Bill Review Manager   \n",
       "\n",
       "                                     company_profile  \\\n",
       "0  We're Food52, and we've created a groundbreaki...   \n",
       "1  90 Seconds, the worlds Cloud Video Production ...   \n",
       "2  Valor Services provides Workforce Solutions th...   \n",
       "3  Our passion for improving quality of life thro...   \n",
       "4  SpotSource Solutions LLC is a Global Human Cap...   \n",
       "\n",
       "                                         description  \\\n",
       "0  Food52, a fast-growing, James Beard Award-winn...   \n",
       "1  Organised - Focused - Vibrant - Awesome!Do you...   \n",
       "2  Our client, located in Houston, is actively se...   \n",
       "3  THE COMPANY: ESRI – Environmental Systems Rese...   \n",
       "4  JOB TITLE: Itemization Review ManagerLOCATION:...   \n",
       "\n",
       "                                        requirements  \\\n",
       "0  Experience with content management systems a m...   \n",
       "1  What we expect from you:Your key responsibilit...   \n",
       "2  Implement pre-commissioning and commissioning ...   \n",
       "3  EDUCATION: Bachelor’s or Master’s in GIS, busi...   \n",
       "4  QUALIFICATIONS:RN license in the State of Texa...   \n",
       "\n",
       "                                            benefits  telecommuting  \\\n",
       "0                                                                 0   \n",
       "1  What you will get from usThrough being part of...              0   \n",
       "2                                                                 0   \n",
       "3  Our culture is anything but corporate—we have ...              0   \n",
       "4                              Full Benefits Offered              0   \n",
       "\n",
       "   has_company_logo  has_questions employment_type required_experience  \\\n",
       "0                 1              0           other          internship   \n",
       "1                 1              0       full-time      not applicable   \n",
       "2                 1              0         unknown             unknown   \n",
       "3                 1              0       full-time    mid-senior level   \n",
       "4                 1              1       full-time    mid-senior level   \n",
       "\n",
       "  required_education                   industry              function  \\\n",
       "0            unknown                    unknown             marketing   \n",
       "1            unknown  marketing and advertising      customer service   \n",
       "2            unknown                    unknown               unknown   \n",
       "3  bachelor's degree          computer software                 sales   \n",
       "4  bachelor's degree     hospital & health care  health care provider   \n",
       "\n",
       "   fraudulent country state        city  \n",
       "0           0      us    ny    new york  \n",
       "1           0      nz          auckland  \n",
       "2           0      us    ia       wever  \n",
       "3           0      us    dc  washington  \n",
       "4           0      us    fl  fort worth  "
      ]
     },
     "execution_count": 21,
     "metadata": {},
     "output_type": "execute_result"
    }
   ],
   "source": [
    "df.head()"
   ]
  },
  {
   "cell_type": "code",
   "execution_count": 22,
   "id": "b4a05adb",
   "metadata": {},
   "outputs": [
    {
     "name": "stdout",
     "output_type": "stream",
     "text": [
      "employment_type: 6 unique values\n",
      "required_experience: 8 unique values\n",
      "required_education: 14 unique values\n",
      "industry: 132 unique values\n",
      "function: 38 unique values\n"
     ]
    }
   ],
   "source": [
    "# Standardize categorical columns\n",
    "for col in ['employment_type', 'required_experience', 'required_education', 'industry', 'function', 'country', 'state', 'city']:\n",
    "    df[col] = df[col].str.lower().str.strip()\n",
    "\n",
    "# Re-check unique counts after standardization\n",
    "for col in ['employment_type', 'required_experience', 'required_education', 'industry', 'function']:\n",
    "    print(f\"{col}: {df[col].nunique()} unique values\")"
   ]
  },
  {
   "cell_type": "markdown",
   "id": "58c648b0",
   "metadata": {},
   "source": [
    "- The industry column has 132 unique values, but the industry itself does not determine whether a job posting is fraudulent. Including it may add noise without improving prediction, so it is reasonable to exclude this feature."
   ]
  },
  {
   "cell_type": "code",
   "execution_count": 23,
   "id": "28527f89",
   "metadata": {},
   "outputs": [],
   "source": [
    "df.drop(columns=['industry'], inplace=True)"
   ]
  },
  {
   "cell_type": "markdown",
   "id": "9c408873",
   "metadata": {},
   "source": [
    "- The function column describes job roles, but fraud can occur in any function. With 38 unique values, it adds little predictive power, so it is reasonable to exclude it."
   ]
  },
  {
   "cell_type": "code",
   "execution_count": 24,
   "id": "71d7e32e",
   "metadata": {},
   "outputs": [],
   "source": [
    "df.drop(columns=['function'], inplace=True)"
   ]
  },
  {
   "cell_type": "code",
   "execution_count": 25,
   "id": "d5fbacee",
   "metadata": {},
   "outputs": [
    {
     "data": {
      "text/plain": [
       "required_education\n",
       "unknown                              8105\n",
       "bachelor's degree                    5145\n",
       "high school or equivalent            2080\n",
       "unspecified                          1397\n",
       "master's degree                       416\n",
       "associate degree                      274\n",
       "certification                         170\n",
       "some college coursework completed     102\n",
       "professional                           74\n",
       "vocational                             49\n",
       "some high school coursework            27\n",
       "doctorate                              26\n",
       "vocational - hs diploma                 9\n",
       "vocational - degree                     6\n",
       "Name: count, dtype: int64"
      ]
     },
     "execution_count": 25,
     "metadata": {},
     "output_type": "execute_result"
    }
   ],
   "source": [
    "df['required_education'].value_counts()"
   ]
  },
  {
   "cell_type": "markdown",
   "id": "f46e86a1",
   "metadata": {},
   "source": [
    "- Above unknow and unspecified is like same thing so good to merege it "
   ]
  },
  {
   "cell_type": "code",
   "execution_count": 26,
   "id": "6fc04690",
   "metadata": {},
   "outputs": [],
   "source": [
    "df['required_education'] = df['required_education'].replace({\n",
    "\"unspecified\": \"unknown\"\n",
    "})\n"
   ]
  },
  {
   "cell_type": "code",
   "execution_count": 27,
   "id": "11cfad8f",
   "metadata": {},
   "outputs": [
    {
     "data": {
      "text/plain": [
       "required_education\n",
       "unknown                              9502\n",
       "bachelor's degree                    5145\n",
       "high school or equivalent            2080\n",
       "master's degree                       416\n",
       "associate degree                      274\n",
       "certification                         170\n",
       "some college coursework completed     102\n",
       "professional                           74\n",
       "vocational                             49\n",
       "some high school coursework            27\n",
       "doctorate                              26\n",
       "vocational - hs diploma                 9\n",
       "vocational - degree                     6\n",
       "Name: count, dtype: int64"
      ]
     },
     "execution_count": 27,
     "metadata": {},
     "output_type": "execute_result"
    }
   ],
   "source": [
    "df['required_education'].value_counts()"
   ]
  },
  {
   "cell_type": "code",
   "execution_count": 28,
   "id": "fe9a2e7b",
   "metadata": {},
   "outputs": [
    {
     "name": "stdout",
     "output_type": "stream",
     "text": [
      "employment_type: 6 unique values\n",
      "required_experience: 8 unique values\n",
      "required_education: 13 unique values\n"
     ]
    }
   ],
   "source": [
    "# Standardize categorical columns\n",
    "for col in ['employment_type', 'required_experience', 'required_education', 'country', 'state', 'city']:\n",
    "    df[col] = df[col].str.lower().str.strip()\n",
    "\n",
    "# Re-check unique counts after standardization\n",
    "for col in ['employment_type', 'required_experience', 'required_education', ]:\n",
    "    print(f\"{col}: {df[col].nunique()} unique values\")"
   ]
  },
  {
   "cell_type": "code",
   "execution_count": 29,
   "id": "f91ab128",
   "metadata": {},
   "outputs": [
    {
     "data": {
      "text/plain": [
       "Index(['job_id', 'title', 'company_profile', 'description', 'requirements',\n",
       "       'benefits', 'telecommuting', 'has_company_logo', 'has_questions',\n",
       "       'employment_type', 'required_experience', 'required_education',\n",
       "       'fraudulent', 'country', 'state', 'city'],\n",
       "      dtype='object')"
      ]
     },
     "execution_count": 29,
     "metadata": {},
     "output_type": "execute_result"
    }
   ],
   "source": [
    "df.columns"
   ]
  },
  {
   "cell_type": "markdown",
   "id": "722c5830",
   "metadata": {},
   "source": [
    "- Country, state, and city are unlikely to predict fraud, as fake postings can appear from any location and may have manipulated names."
   ]
  },
  {
   "cell_type": "code",
   "execution_count": 30,
   "id": "5d281f3d",
   "metadata": {},
   "outputs": [],
   "source": [
    "df.drop(columns=['country', 'state', 'city'], inplace=True)\n"
   ]
  },
  {
   "cell_type": "code",
   "execution_count": 31,
   "id": "647635c9",
   "metadata": {},
   "outputs": [
    {
     "data": {
      "text/plain": [
       "Index(['job_id', 'title', 'company_profile', 'description', 'requirements',\n",
       "       'benefits', 'telecommuting', 'has_company_logo', 'has_questions',\n",
       "       'employment_type', 'required_experience', 'required_education',\n",
       "       'fraudulent'],\n",
       "      dtype='object')"
      ]
     },
     "execution_count": 31,
     "metadata": {},
     "output_type": "execute_result"
    }
   ],
   "source": [
    "df.columns"
   ]
  },
  {
   "cell_type": "markdown",
   "id": "7f93ec1f",
   "metadata": {},
   "source": [
    "- The columns title, company_profile, description, requirements, and benefits are all textual information describing the job. Combining them into a single text column simplifies preprocessing, reduces the number of features, and better captures the overall content, which reflects how a user would provide job details in practice."
   ]
  },
  {
   "cell_type": "code",
   "execution_count": 32,
   "id": "9c834533",
   "metadata": {},
   "outputs": [],
   "source": [
    "df['full_text'] = df['title'].fillna('') + ' ' + \\\n",
    "                  df['company_profile'].fillna('') + ' ' + \\\n",
    "                  df['description'].fillna('') + ' ' + \\\n",
    "                  df['requirements'].fillna('') + ' ' + \\\n",
    "                  df['benefits'].fillna('')\n"
   ]
  },
  {
   "cell_type": "code",
   "execution_count": 33,
   "id": "4d0c79f3",
   "metadata": {},
   "outputs": [],
   "source": [
    "df.drop(columns=['title', 'company_profile', 'description', 'requirements', 'benefits'], inplace=True)\n"
   ]
  },
  {
   "cell_type": "code",
   "execution_count": 34,
   "id": "7b85ebfd",
   "metadata": {},
   "outputs": [
    {
     "data": {
      "text/html": [
       "<div>\n",
       "<style scoped>\n",
       "    .dataframe tbody tr th:only-of-type {\n",
       "        vertical-align: middle;\n",
       "    }\n",
       "\n",
       "    .dataframe tbody tr th {\n",
       "        vertical-align: top;\n",
       "    }\n",
       "\n",
       "    .dataframe thead th {\n",
       "        text-align: right;\n",
       "    }\n",
       "</style>\n",
       "<table border=\"1\" class=\"dataframe\">\n",
       "  <thead>\n",
       "    <tr style=\"text-align: right;\">\n",
       "      <th></th>\n",
       "      <th>job_id</th>\n",
       "      <th>telecommuting</th>\n",
       "      <th>has_company_logo</th>\n",
       "      <th>has_questions</th>\n",
       "      <th>employment_type</th>\n",
       "      <th>required_experience</th>\n",
       "      <th>required_education</th>\n",
       "      <th>fraudulent</th>\n",
       "      <th>full_text</th>\n",
       "    </tr>\n",
       "  </thead>\n",
       "  <tbody>\n",
       "    <tr>\n",
       "      <th>0</th>\n",
       "      <td>1</td>\n",
       "      <td>0</td>\n",
       "      <td>1</td>\n",
       "      <td>0</td>\n",
       "      <td>other</td>\n",
       "      <td>internship</td>\n",
       "      <td>unknown</td>\n",
       "      <td>0</td>\n",
       "      <td>Marketing Intern We're Food52, and we've creat...</td>\n",
       "    </tr>\n",
       "    <tr>\n",
       "      <th>1</th>\n",
       "      <td>2</td>\n",
       "      <td>0</td>\n",
       "      <td>1</td>\n",
       "      <td>0</td>\n",
       "      <td>full-time</td>\n",
       "      <td>not applicable</td>\n",
       "      <td>unknown</td>\n",
       "      <td>0</td>\n",
       "      <td>Customer Service - Cloud Video Production 90 S...</td>\n",
       "    </tr>\n",
       "    <tr>\n",
       "      <th>2</th>\n",
       "      <td>3</td>\n",
       "      <td>0</td>\n",
       "      <td>1</td>\n",
       "      <td>0</td>\n",
       "      <td>unknown</td>\n",
       "      <td>unknown</td>\n",
       "      <td>unknown</td>\n",
       "      <td>0</td>\n",
       "      <td>Commissioning Machinery Assistant (CMA) Valor ...</td>\n",
       "    </tr>\n",
       "    <tr>\n",
       "      <th>3</th>\n",
       "      <td>4</td>\n",
       "      <td>0</td>\n",
       "      <td>1</td>\n",
       "      <td>0</td>\n",
       "      <td>full-time</td>\n",
       "      <td>mid-senior level</td>\n",
       "      <td>bachelor's degree</td>\n",
       "      <td>0</td>\n",
       "      <td>Account Executive - Washington DC Our passion ...</td>\n",
       "    </tr>\n",
       "    <tr>\n",
       "      <th>4</th>\n",
       "      <td>5</td>\n",
       "      <td>0</td>\n",
       "      <td>1</td>\n",
       "      <td>1</td>\n",
       "      <td>full-time</td>\n",
       "      <td>mid-senior level</td>\n",
       "      <td>bachelor's degree</td>\n",
       "      <td>0</td>\n",
       "      <td>Bill Review Manager SpotSource Solutions LLC i...</td>\n",
       "    </tr>\n",
       "  </tbody>\n",
       "</table>\n",
       "</div>"
      ],
      "text/plain": [
       "   job_id  telecommuting  has_company_logo  has_questions employment_type  \\\n",
       "0       1              0                 1              0           other   \n",
       "1       2              0                 1              0       full-time   \n",
       "2       3              0                 1              0         unknown   \n",
       "3       4              0                 1              0       full-time   \n",
       "4       5              0                 1              1       full-time   \n",
       "\n",
       "  required_experience required_education  fraudulent  \\\n",
       "0          internship            unknown           0   \n",
       "1      not applicable            unknown           0   \n",
       "2             unknown            unknown           0   \n",
       "3    mid-senior level  bachelor's degree           0   \n",
       "4    mid-senior level  bachelor's degree           0   \n",
       "\n",
       "                                           full_text  \n",
       "0  Marketing Intern We're Food52, and we've creat...  \n",
       "1  Customer Service - Cloud Video Production 90 S...  \n",
       "2  Commissioning Machinery Assistant (CMA) Valor ...  \n",
       "3  Account Executive - Washington DC Our passion ...  \n",
       "4  Bill Review Manager SpotSource Solutions LLC i...  "
      ]
     },
     "execution_count": 34,
     "metadata": {},
     "output_type": "execute_result"
    }
   ],
   "source": [
    "df.head()"
   ]
  },
  {
   "cell_type": "code",
   "execution_count": 38,
   "id": "cde3013b",
   "metadata": {},
   "outputs": [
    {
     "data": {
      "text/plain": [
       "employment_type\n",
       "full-time    11620\n",
       "other         3698\n",
       "contract      1524\n",
       "part-time      797\n",
       "temporary      241\n",
       "Name: count, dtype: int64"
      ]
     },
     "execution_count": 38,
     "metadata": {},
     "output_type": "execute_result"
    }
   ],
   "source": [
    "df['employment_type'].value_counts()"
   ]
  },
  {
   "cell_type": "code",
   "execution_count": 37,
   "id": "817599e4",
   "metadata": {},
   "outputs": [],
   "source": [
    "df['employment_type'] = df['employment_type'].replace({\n",
    "    'unknown': 'other',\n",
    "})\n"
   ]
  },
  {
   "cell_type": "code",
   "execution_count": 40,
   "id": "162b6f3f",
   "metadata": {},
   "outputs": [
    {
     "data": {
      "text/plain": [
       "required_experience\n",
       "unknown             7050\n",
       "mid-senior level    3809\n",
       "entry level         2697\n",
       "associate           2297\n",
       "not applicable      1116\n",
       "director             389\n",
       "internship           381\n",
       "executive            141\n",
       "Name: count, dtype: int64"
      ]
     },
     "execution_count": 40,
     "metadata": {},
     "output_type": "execute_result"
    }
   ],
   "source": [
    "df['required_experience'].value_counts()"
   ]
  },
  {
   "cell_type": "code",
   "execution_count": 41,
   "id": "7f0b3104",
   "metadata": {},
   "outputs": [
    {
     "data": {
      "text/plain": [
       "required_education\n",
       "unknown                              9502\n",
       "bachelor's degree                    5145\n",
       "high school or equivalent            2080\n",
       "master's degree                       416\n",
       "associate degree                      274\n",
       "certification                         170\n",
       "some college coursework completed     102\n",
       "professional                           74\n",
       "vocational                             49\n",
       "some high school coursework            27\n",
       "doctorate                              26\n",
       "vocational - hs diploma                 9\n",
       "vocational - degree                     6\n",
       "Name: count, dtype: int64"
      ]
     },
     "execution_count": 41,
     "metadata": {},
     "output_type": "execute_result"
    }
   ],
   "source": [
    "df['required_education'].value_counts()"
   ]
  },
  {
   "cell_type": "code",
   "execution_count": 43,
   "id": "673a53ea",
   "metadata": {},
   "outputs": [
    {
     "name": "stdout",
     "output_type": "stream",
     "text": [
      "employment_type: 5 unique values\n",
      "required_experience: 8 unique values\n",
      "required_education: 13 unique values\n"
     ]
    }
   ],
   "source": [
    "# Standardize categorical columns\n",
    "for col in ['employment_type', 'required_experience', 'required_education']:\n",
    "    df[col] = df[col].str.lower().str.strip()\n",
    "\n",
    "# Re-check unique counts after standardization\n",
    "for col in ['employment_type', 'required_experience', 'required_education' ]:\n",
    "    print(f\"{col}: {df[col].nunique()} unique values\")"
   ]
  },
  {
   "cell_type": "code",
   "execution_count": 44,
   "id": "b4314a31",
   "metadata": {},
   "outputs": [
    {
     "data": {
      "text/html": [
       "<div>\n",
       "<style scoped>\n",
       "    .dataframe tbody tr th:only-of-type {\n",
       "        vertical-align: middle;\n",
       "    }\n",
       "\n",
       "    .dataframe tbody tr th {\n",
       "        vertical-align: top;\n",
       "    }\n",
       "\n",
       "    .dataframe thead th {\n",
       "        text-align: right;\n",
       "    }\n",
       "</style>\n",
       "<table border=\"1\" class=\"dataframe\">\n",
       "  <thead>\n",
       "    <tr style=\"text-align: right;\">\n",
       "      <th></th>\n",
       "      <th>job_id</th>\n",
       "      <th>telecommuting</th>\n",
       "      <th>has_company_logo</th>\n",
       "      <th>has_questions</th>\n",
       "      <th>employment_type</th>\n",
       "      <th>required_experience</th>\n",
       "      <th>required_education</th>\n",
       "      <th>fraudulent</th>\n",
       "      <th>full_text</th>\n",
       "    </tr>\n",
       "  </thead>\n",
       "  <tbody>\n",
       "    <tr>\n",
       "      <th>0</th>\n",
       "      <td>1</td>\n",
       "      <td>0</td>\n",
       "      <td>1</td>\n",
       "      <td>0</td>\n",
       "      <td>other</td>\n",
       "      <td>internship</td>\n",
       "      <td>unknown</td>\n",
       "      <td>0</td>\n",
       "      <td>Marketing Intern We're Food52, and we've creat...</td>\n",
       "    </tr>\n",
       "    <tr>\n",
       "      <th>1</th>\n",
       "      <td>2</td>\n",
       "      <td>0</td>\n",
       "      <td>1</td>\n",
       "      <td>0</td>\n",
       "      <td>full-time</td>\n",
       "      <td>not applicable</td>\n",
       "      <td>unknown</td>\n",
       "      <td>0</td>\n",
       "      <td>Customer Service - Cloud Video Production 90 S...</td>\n",
       "    </tr>\n",
       "    <tr>\n",
       "      <th>2</th>\n",
       "      <td>3</td>\n",
       "      <td>0</td>\n",
       "      <td>1</td>\n",
       "      <td>0</td>\n",
       "      <td>other</td>\n",
       "      <td>unknown</td>\n",
       "      <td>unknown</td>\n",
       "      <td>0</td>\n",
       "      <td>Commissioning Machinery Assistant (CMA) Valor ...</td>\n",
       "    </tr>\n",
       "    <tr>\n",
       "      <th>3</th>\n",
       "      <td>4</td>\n",
       "      <td>0</td>\n",
       "      <td>1</td>\n",
       "      <td>0</td>\n",
       "      <td>full-time</td>\n",
       "      <td>mid-senior level</td>\n",
       "      <td>bachelor's degree</td>\n",
       "      <td>0</td>\n",
       "      <td>Account Executive - Washington DC Our passion ...</td>\n",
       "    </tr>\n",
       "    <tr>\n",
       "      <th>4</th>\n",
       "      <td>5</td>\n",
       "      <td>0</td>\n",
       "      <td>1</td>\n",
       "      <td>1</td>\n",
       "      <td>full-time</td>\n",
       "      <td>mid-senior level</td>\n",
       "      <td>bachelor's degree</td>\n",
       "      <td>0</td>\n",
       "      <td>Bill Review Manager SpotSource Solutions LLC i...</td>\n",
       "    </tr>\n",
       "  </tbody>\n",
       "</table>\n",
       "</div>"
      ],
      "text/plain": [
       "   job_id  telecommuting  has_company_logo  has_questions employment_type  \\\n",
       "0       1              0                 1              0           other   \n",
       "1       2              0                 1              0       full-time   \n",
       "2       3              0                 1              0           other   \n",
       "3       4              0                 1              0       full-time   \n",
       "4       5              0                 1              1       full-time   \n",
       "\n",
       "  required_experience required_education  fraudulent  \\\n",
       "0          internship            unknown           0   \n",
       "1      not applicable            unknown           0   \n",
       "2             unknown            unknown           0   \n",
       "3    mid-senior level  bachelor's degree           0   \n",
       "4    mid-senior level  bachelor's degree           0   \n",
       "\n",
       "                                           full_text  \n",
       "0  Marketing Intern We're Food52, and we've creat...  \n",
       "1  Customer Service - Cloud Video Production 90 S...  \n",
       "2  Commissioning Machinery Assistant (CMA) Valor ...  \n",
       "3  Account Executive - Washington DC Our passion ...  \n",
       "4  Bill Review Manager SpotSource Solutions LLC i...  "
      ]
     },
     "execution_count": 44,
     "metadata": {},
     "output_type": "execute_result"
    }
   ],
   "source": [
    "df.head()"
   ]
  },
  {
   "cell_type": "code",
   "execution_count": 45,
   "id": "3d49bcfa",
   "metadata": {},
   "outputs": [],
   "source": [
    "df.to_csv('fake_job_posting_cleaned.csv', index=False)\n"
   ]
  },
  {
   "cell_type": "code",
   "execution_count": null,
   "id": "184059c3",
   "metadata": {},
   "outputs": [],
   "source": [
    "\n"
   ]
  },
  {
   "cell_type": "code",
   "execution_count": null,
   "id": "60b5010c",
   "metadata": {},
   "outputs": [],
   "source": []
  }
 ],
 "metadata": {
  "kernelspec": {
   "display_name": "Python 3",
   "language": "python",
   "name": "python3"
  },
  "language_info": {
   "codemirror_mode": {
    "name": "ipython",
    "version": 3
   },
   "file_extension": ".py",
   "mimetype": "text/x-python",
   "name": "python",
   "nbconvert_exporter": "python",
   "pygments_lexer": "ipython3",
   "version": "3.13.5"
  }
 },
 "nbformat": 4,
 "nbformat_minor": 5
}
